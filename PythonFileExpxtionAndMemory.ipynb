{
  "nbformat": 4,
  "nbformat_minor": 0,
  "metadata": {
    "colab": {
      "provenance": []
    },
    "kernelspec": {
      "name": "python3",
      "display_name": "Python 3"
    },
    "language_info": {
      "name": "python"
    }
  },
  "cells": [
    {
      "cell_type": "markdown",
      "source": [
        "# Python File, Exception Handling And Memory Management Assignment"
      ],
      "metadata": {
        "id": "ZWB-mIFjDsRQ"
      }
    },
    {
      "cell_type": "markdown",
      "source": [
        "1.  What is the difference between interpreted and compiled languages\n",
        "\n",
        "    --> Compiled language : translate to machine code before execution, resulting in faster performance but less portability\n",
        "\n",
        "    Interpreted Language : executes code line by line at runtime, offer more flexibilty but slower"
      ],
      "metadata": {
        "id": "RQsvrzejDsex"
      }
    },
    {
      "cell_type": "markdown",
      "source": [
        "2. What is exception handling in Python\n",
        "\n",
        "   --> Exception handling is a machanism that allows to mange errors and exceptional condition that occurs during the code execution"
      ],
      "metadata": {
        "id": "-U8HGfY8DsjN"
      }
    },
    {
      "cell_type": "markdown",
      "source": [
        "3. What is the purpose of the finally block in exception handling\n",
        "\n",
        "   --> Finally block in exception handling is used to define section of code which will always excuteable"
      ],
      "metadata": {
        "id": "o7ximRk0Dsln"
      }
    },
    {
      "cell_type": "markdown",
      "source": [
        "4. What is logging in Python\n",
        "\n",
        "   --> Logging is a powerfull tool for monitoring and debbuging the application and it is a built in function module in python.\n",
        "   "
      ],
      "metadata": {
        "id": "4MOA1Fr4DsoK"
      }
    },
    {
      "cell_type": "markdown",
      "source": [
        "5. What is the significance of the __del__ method in Python\n",
        "\n",
        "   --> __del__ method is called when the object is about to be destroyed. it is used to define cleanup actions when object is no longer needed."
      ],
      "metadata": {
        "id": "JdGFUqrqHgRG"
      }
    },
    {
      "cell_type": "markdown",
      "source": [
        "6. What is the difference between import and from ... import in Python\n",
        "\n",
        "   --> import module_name: Imports the entire module, requiring you to use the module name as a prefix to access its contents.\n",
        "\n",
        "  from module_name import specific_item: Imports specific items from a module directly into your namespace, allowing you to use them without a prefix."
      ],
      "metadata": {
        "id": "2aZy61PtHgD0"
      }
    },
    {
      "cell_type": "markdown",
      "source": [
        "7.  How can you handle multiple exceptions in Python\n",
        "\n",
        "  --> We can handle multiple exception in python using the except block, a single except block or combinatio of try - except block, else and finally."
      ],
      "metadata": {
        "id": "BX7lHHq-Dsuo"
      }
    },
    {
      "cell_type": "markdown",
      "source": [
        "8. What is the purpose of the with statement when handling files in Python\n",
        "\n",
        "  --> with statement is used to wrap the execution of a block of code within a methods defined by a context manager. It provides a convenient and efficient way to manage file resources."
      ],
      "metadata": {
        "id": "SSs4SqBoDsw1"
      }
    },
    {
      "cell_type": "markdown",
      "source": [
        "9. What is the difference between multithreading and multiprocessing\n",
        "\n",
        "  --> Multithreading: Multiple threads within a single process, sharing memory space, suitable for I/O-bound tasks, but can introduce complexity due to shared state and synchronization issues.\n",
        "  \n",
        "  Multiprocessing: Multiple processes, each with its own memory space, suitable for CPU-bound tasks, providing true parallelism but requiring more overhead for inter-process communication."
      ],
      "metadata": {
        "id": "Sces5ASADszZ"
      }
    },
    {
      "cell_type": "markdown",
      "source": [
        "10. What are the advantages of using logging in a program\n",
        "\n",
        "  -->  logging is a crucial aspect of software development that provides numerous advantages, including improved debugging, monitoring, accountability, performance analysis, and overall code quality."
      ],
      "metadata": {
        "id": "xbFqPNWHDs1H"
      }
    },
    {
      "cell_type": "markdown",
      "source": [
        "11. What is memory management in Python\n",
        "\n",
        "  --> Memory management in Python refers to the process of allocating, using, and freeing memory during the execution of a program. Python has a built-in memory management system that handles memory allocation and deallocation automatically, allowing developers to focus on writing code without worrying about low-level memory management details."
      ],
      "metadata": {
        "id": "apGr-ITbDs30"
      }
    },
    {
      "cell_type": "markdown",
      "source": [
        "12. What are the basic steps involved in exception handling in Python\n",
        "\n",
        "  --> The basic steps involved in exception handling in Python are:\n",
        "\n",
        "  Identify the code that may raise exceptions.\n",
        "\n",
        "  Use a try block to wrap that code.\n",
        "  \n",
        "  Handle exceptions with except blocks."
      ],
      "metadata": {
        "id": "wxmC4PYzDs5L"
      }
    },
    {
      "cell_type": "markdown",
      "source": [
        "13. Why is memory management important in Python\n",
        "\n",
        "  --> Memory management is a critical aspect of programming in any language, including Python. It involves the allocation, use, and deallocation of memory resources during the execution of a program."
      ],
      "metadata": {
        "id": "3rHCMigzDs7o"
      }
    },
    {
      "cell_type": "markdown",
      "source": [
        "14. What is the role of try and except in exception handling\n",
        "\n",
        "  --> In Python, the try and except blocks are fundamental components of exception handling. They allow developers to manage errors and exceptional conditions that may arise during the execution of a program."
      ],
      "metadata": {
        "id": "_1ZSOD-LDs_A"
      }
    },
    {
      "cell_type": "markdown",
      "source": [
        "15.  How does Python's garbage collection system work\n",
        "\n",
        "  --> Python's garbage collection system is responsible for automatically managing memory by reclaiming memory that is no longer in use, thus preventing memory leaks and optimizing resource usage."
      ],
      "metadata": {
        "id": "sbtric4_DtB4"
      }
    },
    {
      "cell_type": "markdown",
      "source": [
        "16. What is the purpose of the else block in exception handling\n",
        "\n",
        "  --> In Python's exception handling mechanism, the else block is used in conjunction with the try and except blocks. Its primary purpose is to define a section of code that should be executed only if the code in the try block does not raise any exceptions."
      ],
      "metadata": {
        "id": "11gJNGeDDtDf"
      }
    },
    {
      "cell_type": "markdown",
      "source": [
        "17. What are the common logging levels in Python\n",
        "\n",
        "  -->  the built-in logging module provides a standardized way to log messages from your applications. It defines several logging levels that indicate the severity or importance of the messages being logged. Here are the common logging levels, listed in order of increasing severity:\n",
        "\n",
        "  DEBUG\n",
        "\n",
        "  INFO\n",
        "\n",
        "  WARNING\n",
        "\n",
        "  ERROR\n",
        "\n",
        "  CRITICAL\n",
        "\n"
      ],
      "metadata": {
        "id": "KDl34TCHDtF0"
      }
    },
    {
      "cell_type": "markdown",
      "source": [
        "18.  What is the difference between os.fork() and multiprocessing in Python\n",
        "\n",
        "  --> os.fork() is a low-level system call for creating new processes, primarily used in Unix-like operating systems, while the multiprocessing module is a higher-level abstraction for creating and managing processes in Python, providing a more user-friendly interface and cross-platform compatibility."
      ],
      "metadata": {
        "id": "lhwtHgkCDtKB"
      }
    },
    {
      "cell_type": "markdown",
      "source": [
        "19. What is the importance of closing a file in Python\n",
        "\n",
        "  --> Closing a file in Python is an important practice that ensures proper resource management and helps prevent various issues that can arise during file operations."
      ],
      "metadata": {
        "id": "ca7Xk3qHDtMM"
      }
    },
    {
      "cell_type": "markdown",
      "source": [
        "20. What is the difference between file.read() and file.readline() in Python\n",
        "\n",
        "  --> file.read() when you need the entire content of a file\n",
        "  \n",
        "   file.readline() when you want to read the file one line at a time."
      ],
      "metadata": {
        "id": "FTeacJ9jDtO5"
      }
    },
    {
      "cell_type": "markdown",
      "source": [
        "21. What is the logging module in Python used for\n",
        "\n",
        "  --> The logging module in Python is a built-in library that provides a flexible framework for emitting log messages from Python programs. It is used for tracking events that happen during the execution of a program, which can be invaluable for debugging, monitoring, and auditing applications."
      ],
      "metadata": {
        "id": "M7oKndWHDtRd"
      }
    },
    {
      "cell_type": "markdown",
      "source": [
        "22. What is the os module in Python used for in file handling\n",
        "\n",
        "  --> The os module in Python is a built-in library that provides a way to interact with the operating system. It includes a variety of functions for file handling, allowing you to perform operations related to files and directories."
      ],
      "metadata": {
        "id": "RRFdQzhCDtUV"
      }
    },
    {
      "cell_type": "markdown",
      "source": [
        "23. What are the challenges associated with memory management in Python\n",
        "\n",
        "  --> Python's memory management system simplifies many aspects of memory handling, it also introduces challenges such as the GIL, memory leaks, circular references, fragmentation, garbage collection overhead, and limited control over memory management.\n"
      ],
      "metadata": {
        "id": "3Iraf8sZEW8Z"
      }
    },
    {
      "cell_type": "markdown",
      "source": [
        "24.   How do you raise an exception manually in Python\n",
        "\n",
        "  --> In Python, you can raise an exception manually using the raise statement. This allows you to trigger an exception intentionally, which can be useful for enforcing certain conditions in your code or for handling errors in a controlled manner."
      ],
      "metadata": {
        "id": "fdrz8KP6Ikmb"
      }
    },
    {
      "cell_type": "markdown",
      "source": [
        "25. Why is it important to use multithreading in certain applications\n",
        "\n",
        "  --> multithreading is important in certain applications for the following reasons:\n",
        "\n",
        "  Improved responsiveness in user\n",
        "  interfaces.\n",
        "\n",
        "  Concurrent I/O operations to enhance performance.\n",
        "\n",
        "  Utilization of multi-core processors for parallelism.\n",
        "\n",
        "  Simplified program structure through separation of concerns.\n",
        "\n",
        "  Real-time processing for time-sensitive applications."
      ],
      "metadata": {
        "id": "8kIKjD2wIlN-"
      }
    },
    {
      "cell_type": "markdown",
      "source": [
        "# Python File, Exception Handling And Memory Management Praactical"
      ],
      "metadata": {
        "id": "OeiyXyOvEYYi"
      }
    },
    {
      "cell_type": "code",
      "source": [
        "# 1. Write a Python program that writes to a log file when an error occurs during file handling\n",
        "\n",
        "import logging\n",
        "\n",
        "\n",
        "logging.basicConfig(filename ='error.log',\n",
        "                    level = logging.ERROR,\n",
        "                    format = '%(asctime)s - %(levelname)s - %(message)s')\n",
        "\n",
        "def read_file(filename):\n",
        "\n",
        "  try:\n",
        "    with open(filename,'r') as file :\n",
        "      content = file.read()\n",
        "      print(content)\n",
        "  except FileNotFoundError:\n",
        "    logging.error(\"File not found :%s\", filename)\n",
        "    print(\"Error : file not found\")\n",
        "\n",
        "  except PermissionError():\n",
        "    logging.error(\"Permission denied : %s\", filename)\n",
        "    print(\"Error : Permission Denied\")\n",
        "\n",
        "  except Exception as e :\n",
        "    logging.error(\"An unexpected error : %s\", str(e))\n",
        "    print(\"An unexpected error occured\")\n",
        "\n",
        "if __name__ == \"__main__\":\n",
        "  filename = \"example.txt\"\n",
        "  read_file(filename)"
      ],
      "metadata": {
        "id": "XsPRoNC1EWbG",
        "colab": {
          "base_uri": "https://localhost:8080/"
        },
        "outputId": "f799fba5-e79c-4754-8346-8ac3be6cce12"
      },
      "execution_count": 5,
      "outputs": [
        {
          "output_type": "stream",
          "name": "stderr",
          "text": [
            "ERROR:root:File not found :example.txt\n"
          ]
        },
        {
          "output_type": "stream",
          "name": "stdout",
          "text": [
            "Error : file not found\n"
          ]
        }
      ]
    },
    {
      "cell_type": "code",
      "source": [
        "# 2. Write a Python program to read the contents of a file and print each line\n",
        "\n",
        "def read_file(file_path):\n",
        "    try:\n",
        "        with open(file_path, 'r') as file:\n",
        "            for line in file:\n",
        "                print(line.strip())\n",
        "    except FileNotFoundError:\n",
        "        print(f\"Error: The file '{file_path}' was not found.\")\n",
        "    except IOError as e:\n",
        "        print(f\"Error: An I/O error occurred while reading the file '{file_path}': {e}\")\n",
        "\n",
        "\n",
        "if __name__ == \"__main__\":\n",
        "    file_path = 'example.txt'\n",
        "    read_file(file_path)"
      ],
      "metadata": {
        "id": "I9iBYKuLEoUF",
        "colab": {
          "base_uri": "https://localhost:8080/"
        },
        "outputId": "eb8aac15-fb2f-4d88-f70b-1fd1ceb47818"
      },
      "execution_count": 6,
      "outputs": [
        {
          "output_type": "stream",
          "name": "stdout",
          "text": [
            "Error: The file 'example.txt' was not found.\n"
          ]
        }
      ]
    },
    {
      "cell_type": "code",
      "source": [
        "# 3. How would you handle a case where the file doesn't exist while trying to open it for reading\n",
        "\n",
        "import logging\n",
        "\n",
        "\n",
        "logging.basicConfig(\n",
        "    filename='error.log',\n",
        "    level=logging.ERROR,\n",
        "    format='%(asctime)s - %(levelname)s - %(message)s'\n",
        ")\n",
        "\n",
        "def read_file(filename):\n",
        "    \"\"\"Attempts to read a file and prints each line, handling missing files gracefully.\"\"\"\n",
        "    try:\n",
        "        with open(filename, 'r') as file:\n",
        "            for line in file:\n",
        "                print(line.strip())\n",
        "    except FileNotFoundError:\n",
        "        logging.error(\"File not found: %s\", filename)\n",
        "        print(f\"Error: The file '{filename}' does not exist. Please check the filename and try again.\")\n",
        "\n",
        "# Example usage\n",
        "if __name__ == \"__main__\":\n",
        "    filename = \"non_existent_file.txt\"\n",
        "    read_file(filename)\n"
      ],
      "metadata": {
        "id": "vdS7JJWGEoCo",
        "colab": {
          "base_uri": "https://localhost:8080/"
        },
        "outputId": "45568fb5-58f4-4cd4-ffc5-091cd6933988"
      },
      "execution_count": 7,
      "outputs": [
        {
          "output_type": "stream",
          "name": "stderr",
          "text": [
            "ERROR:root:File not found: non_existent_file.txt\n"
          ]
        },
        {
          "output_type": "stream",
          "name": "stdout",
          "text": [
            "Error: The file 'non_existent_file.txt' does not exist. Please check the filename and try again.\n"
          ]
        }
      ]
    },
    {
      "cell_type": "code",
      "source": [
        "# 4. Write a Python script that reads from one file and writes its content to another file\n",
        "\n",
        "import logging\n",
        "\n",
        "\n",
        "logging.basicConfig(\n",
        "    filename='error.log',\n",
        "    level=logging.ERROR,\n",
        "    format='%(asctime)s - %(levelname)s - %(message)s'\n",
        ")\n",
        "\n",
        "def copy_file(source_filename, destination_filename):\n",
        "    \"\"\"Reads from one file and writes its content to another file.\"\"\"\n",
        "    try:\n",
        "        with open(source_filename, 'r') as source_file:\n",
        "            content = source_file.read()\n",
        "\n",
        "        with open(destination_filename, 'w') as destination_file:\n",
        "            destination_file.write(content)\n",
        "\n",
        "        print(f\"Successfully copied content from {source_filename} to {destination_filename}.\")\n",
        "    except FileNotFoundError:\n",
        "        logging.error(\"File not found: %s\", source_filename)\n",
        "        print(f\"Error: The file '{source_filename}' does not exist. Please check the filename and try again.\")\n",
        "    except PermissionError:\n",
        "        logging.error(\"Permission denied: %s\", source_filename)\n",
        "        print(f\"Error: Permission denied for file '{source_filename}'.\")\n",
        "    except Exception as e:\n",
        "        logging.error(\"An unexpected error occurred: %s\", str(e))\n",
        "        print(\"Error: An unexpected error occurred.\")\n",
        "\n",
        "\n",
        "if __name__ == \"__main__\":\n",
        "    source_filename = \"source.txt\"\n",
        "    destination_filename = \"destination.txt\"\n",
        "    copy_file(source_filename, destination_filename)\n"
      ],
      "metadata": {
        "id": "hWvwXbmOEn6U",
        "colab": {
          "base_uri": "https://localhost:8080/"
        },
        "outputId": "bee04bf7-e744-491f-822f-d9d192491367"
      },
      "execution_count": 1,
      "outputs": [
        {
          "output_type": "stream",
          "name": "stderr",
          "text": [
            "ERROR:root:File not found: source.txt\n"
          ]
        },
        {
          "output_type": "stream",
          "name": "stdout",
          "text": [
            "Error: The file 'source.txt' does not exist. Please check the filename and try again.\n"
          ]
        }
      ]
    },
    {
      "cell_type": "code",
      "source": [
        "# 5. How would you catch and handle division by zero error in Python\n",
        "\n",
        "import logging\n",
        "\n",
        "\n",
        "logging.basicConfig(\n",
        "    filename='error.log',\n",
        "    level=logging.ERROR,\n",
        "    format='%(asctime)s - %(levelname)s - %(message)s'\n",
        ")\n",
        "\n",
        "def safe_divide(a, b):\n",
        "    \"\"\"Performs division and handles division by zero error.\"\"\"\n",
        "    try:\n",
        "        result = a / b\n",
        "        print(f\"Result: {result}\")\n",
        "    except ZeroDivisionError:\n",
        "        logging.error(\"Division by zero error: %d / %d\", a, b)\n",
        "        print(\"Error: Division by zero is not allowed.\")\n",
        "    except Exception as e:\n",
        "        logging.error(\"An unexpected error occurred: %s\", str(e))\n",
        "        print(\"Error: An unexpected error occurred.\")\n",
        "\n",
        "if __name__ == \"__main__\":\n",
        "    numerator = 10\n",
        "    denominator = 0\n",
        "    safe_divide(numerator, denominator)\n"
      ],
      "metadata": {
        "id": "X1ODsiCkEnsx",
        "colab": {
          "base_uri": "https://localhost:8080/"
        },
        "outputId": "c3a4c562-b3ce-4f54-c1d0-6c200cd18aa3"
      },
      "execution_count": 2,
      "outputs": [
        {
          "output_type": "stream",
          "name": "stderr",
          "text": [
            "ERROR:root:Division by zero error: 10 / 0\n"
          ]
        },
        {
          "output_type": "stream",
          "name": "stdout",
          "text": [
            "Error: Division by zero is not allowed.\n"
          ]
        }
      ]
    },
    {
      "cell_type": "code",
      "source": [
        "# 6. Write a Python program that logs an error message to a log file when a division by zero exception occurs\n",
        "\n",
        "import logging\n",
        "\n",
        "\n",
        "logging.basicConfig(\n",
        "    filename='error.log',\n",
        "    level=logging.ERROR,\n",
        "    format='%(asctime)s - %(levelname)s - %(message)s'\n",
        ")\n",
        "\n",
        "def safe_divide(a, b):\n",
        "    \"\"\"Performs division and logs an error message if a division by zero occurs.\"\"\"\n",
        "    try:\n",
        "        result = a / b\n",
        "        print(f\"Result: {result}\")\n",
        "    except ZeroDivisionError:\n",
        "        error_message = f\"Division by zero error: {a} / {b}\"\n",
        "        logging.error(error_message)\n",
        "        print(\"Error: Division by zero is not allowed.\")\n",
        "    except Exception as e:\n",
        "        logging.error(\"An unexpected error occurred: %s\", str(e))\n",
        "        print(\"Error: An unexpected error occurred.\")\n",
        "\n",
        "\n",
        "if __name__ == \"__main__\":\n",
        "    try:\n",
        "        numerator = int(input(\"Enter numerator: \"))\n",
        "        denominator = int(input(\"Enter denominator: \"))\n",
        "        safe_divide(numerator, denominator)\n",
        "    except ValueError:\n",
        "        logging.error(\"Invalid input: Non-integer value entered.\")\n",
        "        print(\"Error: Please enter valid integers.\")\n"
      ],
      "metadata": {
        "id": "tdNKW1dUEnk_",
        "colab": {
          "base_uri": "https://localhost:8080/"
        },
        "outputId": "e0233148-e046-41e2-d7aa-4cb81d2432cb"
      },
      "execution_count": 3,
      "outputs": [
        {
          "output_type": "stream",
          "name": "stdout",
          "text": [
            "Enter numerator: 45\n",
            "Enter denominator: 5\n",
            "Result: 9.0\n"
          ]
        }
      ]
    },
    {
      "cell_type": "code",
      "source": [
        "# 7. How do you log information at different levels (INFO, ERROR, WARNING) in Python using the logging module\n",
        "\n",
        "import logging\n",
        "\n",
        "\n",
        "logging.basicConfig(\n",
        "    filename='app.log',\n",
        "    level=logging.DEBUG,\n",
        "    format='%(asctime)s - %(levelname)s - %(message)s'\n",
        ")\n",
        "\n",
        "def process_data(value):\n",
        "    \"\"\"Demonstrates logging at different levels.\"\"\"\n",
        "    logging.info(\"Processing value: %s\", value)\n",
        "\n",
        "    if value < 0:\n",
        "        logging.warning(\"Negative value detected: %s\", value)\n",
        "\n",
        "    try:\n",
        "        result = 10 / value\n",
        "        logging.debug(\"Computation successful: 10 / %s = %s\", value, result)\n",
        "        return result\n",
        "    except ZeroDivisionError:\n",
        "        logging.error(\"Division by zero error!\")\n",
        "        return None\n",
        "\n",
        "if __name__ == \"__main__\":\n",
        "    logging.info(\"Program started\")\n",
        "    process_data(5)\n",
        "    process_data(0)\n",
        "    process_data(-3)\n",
        "    logging.info(\"Program finished\")\n"
      ],
      "metadata": {
        "id": "gO9PfGrwEnda",
        "colab": {
          "base_uri": "https://localhost:8080/"
        },
        "outputId": "1963970d-f7bb-4377-d742-9779db30eb50"
      },
      "execution_count": 4,
      "outputs": [
        {
          "output_type": "stream",
          "name": "stderr",
          "text": [
            "ERROR:root:Division by zero error!\n",
            "WARNING:root:Negative value detected: -3\n"
          ]
        }
      ]
    },
    {
      "cell_type": "code",
      "source": [
        "# 8. Write a program to handle a file opening error using exception handling\n",
        "\n",
        "import logging\n",
        "\n",
        "logging.basicConfig(\n",
        "    filename='error.log',\n",
        "    level=logging.ERROR,\n",
        "    format='%(asctime)s - %(levelname)s - %(message)s'\n",
        ")\n",
        "\n",
        "def safe_divide(a, b):\n",
        "    \"\"\"Performs division and logs an error message if a division by zero occurs.\"\"\"\n",
        "    try:\n",
        "        result = a / b\n",
        "        print(f\"Result: {result}\")\n",
        "    except ZeroDivisionError:\n",
        "        error_message = f\"Division by zero error: {a} / {b}\"\n",
        "        logging.error(error_message)\n",
        "        print(\"Error: Division by zero is not allowed.\")\n",
        "    except Exception as e:\n",
        "        logging.error(\"An unexpected error occurred: %s\", str(e))\n",
        "        print(\"Error: An unexpected error occurred.\")\n",
        "\n",
        "def open_file(filename):\n",
        "    \"\"\"Attempts to open a file and handle errors.\"\"\"\n",
        "    try:\n",
        "        with open(filename, 'r') as file:\n",
        "            content = file.read()\n",
        "            print(content)\n",
        "    except FileNotFoundError:\n",
        "        logging.error(\"File not found: %s\", filename)\n",
        "        print(f\"Error: The file '{filename}' does not exist.\")\n",
        "    except PermissionError:\n",
        "        logging.error(\"Permission denied: %s\", filename)\n",
        "        print(f\"Error: Permission denied for file '{filename}'.\")\n",
        "    except Exception as e:\n",
        "        logging.error(\"An unexpected error occurred while opening the file: %s\", str(e))\n",
        "        print(\"Error: An unexpected error occurred while opening the file.\")\n",
        "\n",
        "if __name__ == \"__main__\":\n",
        "    try:\n",
        "        numerator = int(input(\"Enter numerator: \"))\n",
        "        denominator = int(input(\"Enter denominator: \"))\n",
        "        safe_divide(numerator, denominator)\n",
        "    except ValueError:\n",
        "        logging.error(\"Invalid input: Non-integer value entered.\")\n",
        "        print(\"Error: Please enter valid integers.\")\n",
        "\n",
        "    filename = input(\"Enter filename to open: \")\n",
        "    open_file(filename)\n"
      ],
      "metadata": {
        "id": "ormeE1H-EnVW",
        "colab": {
          "base_uri": "https://localhost:8080/"
        },
        "outputId": "1a2564cf-bf10-4184-d91a-841f22686e2e"
      },
      "execution_count": 5,
      "outputs": [
        {
          "name": "stdout",
          "output_type": "stream",
          "text": [
            "Enter numerator: 66\n",
            "Enter denominator: 3\n",
            "Result: 22.0\n",
            "Enter filename to open: file.txt\n"
          ]
        },
        {
          "output_type": "stream",
          "name": "stderr",
          "text": [
            "ERROR:root:File not found: file.txt\n"
          ]
        },
        {
          "output_type": "stream",
          "name": "stdout",
          "text": [
            "Error: The file 'file.txt' does not exist.\n"
          ]
        }
      ]
    },
    {
      "cell_type": "code",
      "source": [
        "# 9. How can you read a file line by line and store its content in a list in Python\n",
        "\n",
        "def read_file_lines(filename):\n",
        "    \"\"\"Reads a file line by line and stores the content in a list.\"\"\"\n",
        "    try:\n",
        "        with open(filename, 'r') as file:\n",
        "            lines = file.readlines()\n",
        "            return [line.strip() for line in lines]\n",
        "    except FileNotFoundError:\n",
        "        print(f\"Error: The file '{filename}' does not exist.\")\n",
        "        return []\n",
        "    except Exception as e:\n",
        "        print(f\"Error: {e}\")\n",
        "        return []\n",
        "\n",
        "filename = \"example.txt\"\n",
        "lines_list = read_file_lines(filename)\n",
        "print(lines_list)"
      ],
      "metadata": {
        "id": "8q2X5E3YEnNR",
        "colab": {
          "base_uri": "https://localhost:8080/"
        },
        "outputId": "af3fca07-b33a-4cd8-b2d2-f2e46cf91fe5"
      },
      "execution_count": 6,
      "outputs": [
        {
          "output_type": "stream",
          "name": "stdout",
          "text": [
            "Error: The file 'example.txt' does not exist.\n",
            "[]\n"
          ]
        }
      ]
    },
    {
      "cell_type": "code",
      "source": [
        "# 10. How can you append data to an existing file in Python\n",
        "\n",
        "def append_to_file(filename, data):\n",
        "    \"\"\"Appends data to an existing file.\"\"\"\n",
        "    try:\n",
        "        with open(filename, 'a') as file:\n",
        "            file.write(data + '\\n')\n",
        "        print(f\"Successfully appended to {filename}.\")\n",
        "    except Exception as e:\n",
        "        print(f\"Error: {e}\")\n",
        "\n",
        "filename = \"example.txt\"\n",
        "data = \"This is new appended content.\"\n",
        "append_to_file(filename, data)\n"
      ],
      "metadata": {
        "id": "xACmJ_SuEnFb",
        "colab": {
          "base_uri": "https://localhost:8080/"
        },
        "outputId": "3d333ab1-e954-497f-90cf-454e010514ff"
      },
      "execution_count": 7,
      "outputs": [
        {
          "output_type": "stream",
          "name": "stdout",
          "text": [
            "Successfully appended to example.txt.\n"
          ]
        }
      ]
    },
    {
      "cell_type": "code",
      "source": [
        "# 11. Write a Python program that uses a try-except block to handle an error when attempting to access a dictionary key that doesn't exist\n",
        "\n",
        "my_dict = {\"name\": \"Alice\", \"age\": 25}\n",
        "\n",
        "try:\n",
        "\n",
        "    print(my_dict[\"address\"])\n",
        "except KeyError as e:\n",
        "    print(f\"Error: The key {e} does not exist in the dictionary.\")\n"
      ],
      "metadata": {
        "id": "j6XoVPKbEm-b",
        "colab": {
          "base_uri": "https://localhost:8080/"
        },
        "outputId": "67bdf3f7-ef73-4636-e7de-58469a6c2435"
      },
      "execution_count": 11,
      "outputs": [
        {
          "output_type": "stream",
          "name": "stdout",
          "text": [
            "Error: The key 'address' does not exist in the dictionary.\n"
          ]
        }
      ]
    },
    {
      "cell_type": "code",
      "source": [
        "# 12. Write a program that demonstrates using multiple except blocks to handle different types of exceptions\n",
        "\n",
        "def handle_exceptions():\n",
        "    try:\n",
        "\n",
        "        result = 10 / 0\n",
        "        print(result)\n",
        "\n",
        "    except ZeroDivisionError:\n",
        "        print(\"Error: Division by zero is not allowed.\")\n",
        "\n",
        "    try:\n",
        "\n",
        "        my_list = [1, 2, 3]\n",
        "        print(my_list[5])\n",
        "\n",
        "    except IndexError:\n",
        "        print(\"Error: Index out of range.\")\n",
        "\n",
        "    try:\n",
        "\n",
        "        number = int(\"hello\")\n",
        "        print(number)\n",
        "\n",
        "    except ValueError:\n",
        "        print(\"Error: Invalid value for integer conversion.\")\n",
        "\n",
        "    try:\n",
        "\n",
        "        with open(\"non_existing_file.txt\", \"r\") as file:\n",
        "            content = file.read()\n",
        "            print(content)\n",
        "\n",
        "    except FileNotFoundError:\n",
        "        print(\"Error: The file does not exist.\")\n",
        "\n",
        "\n",
        "handle_exceptions()\n"
      ],
      "metadata": {
        "id": "ERPXeMAwEm2p",
        "colab": {
          "base_uri": "https://localhost:8080/"
        },
        "outputId": "17c446b4-de3c-46cf-c01a-1cb9c22b1117"
      },
      "execution_count": 12,
      "outputs": [
        {
          "output_type": "stream",
          "name": "stdout",
          "text": [
            "Error: Division by zero is not allowed.\n",
            "Error: Index out of range.\n",
            "Error: Invalid value for integer conversion.\n",
            "Error: The file does not exist.\n"
          ]
        }
      ]
    },
    {
      "cell_type": "code",
      "source": [
        "# 13. How would you check if a file exists before attempting to read it in Python\n",
        "\n",
        "import os\n",
        "\n",
        "file_path = \"example.txt\"\n",
        "\n",
        "if os.path.exists(file_path):\n",
        "    with open(file_path, 'r') as file:\n",
        "        content = file.read()\n",
        "        print(content)\n",
        "else:\n",
        "    print(\"The file does not exist.\")\n"
      ],
      "metadata": {
        "id": "UuyL2sWsEmtv",
        "colab": {
          "base_uri": "https://localhost:8080/"
        },
        "outputId": "f1a05948-f057-40b0-96d7-5fd49291ddba"
      },
      "execution_count": 13,
      "outputs": [
        {
          "output_type": "stream",
          "name": "stdout",
          "text": [
            "This is new appended content.\n",
            "\n"
          ]
        }
      ]
    },
    {
      "cell_type": "code",
      "source": [
        "# 14. Write a program that uses the logging module to log both informational and error messages\n",
        "\n",
        "import logging\n",
        "\n",
        "logging.basicConfig(\n",
        "    level=logging.DEBUG,\n",
        "    format='%(asctime)s - %(levelname)s - %(message)s',\n",
        "    handlers=[\n",
        "        logging.FileHandler(\"app.log\"),\n",
        "        logging.StreamHandler()\n",
        "    ]\n",
        ")\n",
        "\n",
        "logging.info(\"This is an informational message.\")\n",
        "\n",
        "logging.warning(\"This is a warning message.\")\n",
        "\n",
        "logging.error(\"This is an error message.\")\n",
        "\n",
        "\n",
        "logging.critical(\"This is a critical error message.\")\n",
        "\n",
        "logging.debug(\"This is a debug message.\")\n",
        "\n",
        "try:\n",
        "    x = 10 / 0\n",
        "except ZeroDivisionError:\n",
        "    logging.exception(\"An exception occurred while dividing.\")\n"
      ],
      "metadata": {
        "id": "3RjiAvAJEmmw",
        "colab": {
          "base_uri": "https://localhost:8080/"
        },
        "outputId": "9189e22a-b4e8-4862-916f-30ce60949a74"
      },
      "execution_count": 14,
      "outputs": [
        {
          "output_type": "stream",
          "name": "stderr",
          "text": [
            "WARNING:root:This is a warning message.\n",
            "ERROR:root:This is an error message.\n",
            "CRITICAL:root:This is a critical error message.\n",
            "ERROR:root:An exception occurred while dividing.\n",
            "Traceback (most recent call last):\n",
            "  File \"<ipython-input-14-a76c4ab14b7c>\", line 26, in <cell line: 0>\n",
            "    x = 10 / 0\n",
            "       ~~~^~~\n",
            "ZeroDivisionError: division by zero\n"
          ]
        }
      ]
    },
    {
      "cell_type": "code",
      "source": [
        "# 15. Write a Python program that prints the content of a file and handles the case when the file is empty\n",
        "\n",
        "def read_file(file_path):\n",
        "    try:\n",
        "        with open(file_path, 'r') as file:\n",
        "            content = file.read()\n",
        "\n",
        "            if not content:\n",
        "                print(\"The file is empty.\")\n",
        "            else:\n",
        "                print(\"File content:\")\n",
        "                print(content)\n",
        "\n",
        "    except FileNotFoundError:\n",
        "        print(f\"Error: The file '{file_path}' does not exist.\")\n",
        "    except Exception as e:\n",
        "        print(f\"An unexpected error occurred: {e}\")\n",
        "\n",
        "file_path = \"example.txt\"\n",
        "read_file(file_path)\n"
      ],
      "metadata": {
        "id": "PB340fqCEmfO",
        "colab": {
          "base_uri": "https://localhost:8080/"
        },
        "outputId": "b267f5a3-c3a6-4710-da82-6acfc54c747c"
      },
      "execution_count": 15,
      "outputs": [
        {
          "output_type": "stream",
          "name": "stdout",
          "text": [
            "File content:\n",
            "This is new appended content.\n",
            "\n"
          ]
        }
      ]
    },
    {
      "cell_type": "code",
      "source": [
        "# Import the memory profiler module\n",
        "from memory_profiler import profile\n",
        "\n",
        "@profile\n",
        "def my_function():\n",
        "    a = [i for i in range(1000000)]\n",
        "    b = [i * 2 for i in a]\n",
        "    c = sum(b)\n",
        "    return c\n",
        "\n",
        "if __name__ == '__main__':\n",
        "    result = my_function()\n",
        "    print(f\"Result: {result}\")\n"
      ],
      "metadata": {
        "id": "jEXOW76DEmWn",
        "colab": {
          "base_uri": "https://localhost:8080/",
          "height": 383
        },
        "outputId": "4737a118-9afd-43e0-ebee-65f798b036b5"
      },
      "execution_count": 19,
      "outputs": [
        {
          "output_type": "error",
          "ename": "ModuleNotFoundError",
          "evalue": "No module named 'memory_profiler'",
          "traceback": [
            "\u001b[0;31m---------------------------------------------------------------------------\u001b[0m",
            "\u001b[0;31mModuleNotFoundError\u001b[0m                       Traceback (most recent call last)",
            "\u001b[0;32m<ipython-input-19-489b339bd5d1>\u001b[0m in \u001b[0;36m<cell line: 0>\u001b[0;34m()\u001b[0m\n\u001b[1;32m      1\u001b[0m \u001b[0;31m# Import the memory profiler module\u001b[0m\u001b[0;34m\u001b[0m\u001b[0;34m\u001b[0m\u001b[0m\n\u001b[0;32m----> 2\u001b[0;31m \u001b[0;32mfrom\u001b[0m \u001b[0mmemory_profiler\u001b[0m \u001b[0;32mimport\u001b[0m \u001b[0mprofile\u001b[0m\u001b[0;34m\u001b[0m\u001b[0;34m\u001b[0m\u001b[0m\n\u001b[0m\u001b[1;32m      3\u001b[0m \u001b[0;34m\u001b[0m\u001b[0m\n\u001b[1;32m      4\u001b[0m \u001b[0;31m# Define a function to demonstrate memory profiling\u001b[0m\u001b[0;34m\u001b[0m\u001b[0;34m\u001b[0m\u001b[0m\n\u001b[1;32m      5\u001b[0m \u001b[0;34m@\u001b[0m\u001b[0mprofile\u001b[0m\u001b[0;34m\u001b[0m\u001b[0;34m\u001b[0m\u001b[0m\n",
            "\u001b[0;31mModuleNotFoundError\u001b[0m: No module named 'memory_profiler'",
            "",
            "\u001b[0;31m---------------------------------------------------------------------------\u001b[0;32m\nNOTE: If your import is failing due to a missing package, you can\nmanually install dependencies using either !pip or !apt.\n\nTo view examples of installing some common dependencies, click the\n\"Open Examples\" button below.\n\u001b[0;31m---------------------------------------------------------------------------\u001b[0m\n"
          ],
          "errorDetails": {
            "actions": [
              {
                "action": "open_url",
                "actionText": "Open Examples",
                "url": "/notebooks/snippets/importing_libraries.ipynb"
              }
            ]
          }
        }
      ]
    },
    {
      "cell_type": "code",
      "source": [
        "# 17. Write a Python program to create and write a list of numbers to a file, one number per line\n",
        "\n",
        "numbers = [1, 2, 3, 4, 5, 6, 7, 8, 9, 10]\n",
        "\n",
        "file_path = \"numbers.txt\"\n",
        "\n",
        "\n",
        "with open(file_path, 'w') as file:\n",
        "\n",
        "    for number in numbers:\n",
        "        file.write(f\"{number}\\n\")\n",
        "\n",
        "print(f\"Numbers have been written to {file_path}\")\n"
      ],
      "metadata": {
        "id": "cOPImoVJEmNg",
        "colab": {
          "base_uri": "https://localhost:8080/"
        },
        "outputId": "58249a13-2ef7-4fc4-aff5-89131f984146"
      },
      "execution_count": 20,
      "outputs": [
        {
          "output_type": "stream",
          "name": "stdout",
          "text": [
            "Numbers have been written to numbers.txt\n"
          ]
        }
      ]
    },
    {
      "cell_type": "code",
      "source": [
        "# 18. How would you implement a basic logging setup that logs to a file with rotation after 1MB\n",
        "\n",
        "import logging\n",
        "from logging.handlers import RotatingFileHandler\n",
        "\n",
        "log_file = 'app.log'\n",
        "max_log_size = 1\n",
        "backup_count = 3\n",
        "\n",
        "handler = RotatingFileHandler(log_file, maxBytes=max_log_size, backupCount=backup_count)\n",
        "\n",
        "formatter = logging.Formatter('%(asctime)s - %(levelname)s - %(message)s')\n",
        "handler.setFormatter(formatter)\n",
        "\n",
        "logger = logging.getLogger()\n",
        "logger.setLevel(logging.DEBUG)\n",
        "\n",
        "logger.addHandler(handler)\n",
        "\n",
        "\n",
        "logger.debug('This is a debug message.')\n",
        "logger.info('This is an informational message.')\n",
        "logger.warning('This is a warning message.')\n",
        "logger.error('This is an error message.')\n",
        "logger.critical('This is a critical message.')\n",
        "\n",
        "for i in range(1000):\n",
        "    logger.info(f\"Log message {i}\")\n"
      ],
      "metadata": {
        "id": "kgZMn4OkEmE6",
        "colab": {
          "base_uri": "https://localhost:8080/"
        },
        "outputId": "b918977a-f4d7-46b0-ef95-fbc775d19470"
      },
      "execution_count": 21,
      "outputs": [
        {
          "output_type": "stream",
          "name": "stderr",
          "text": [
            "DEBUG:root:This is a debug message.\n",
            "INFO:root:This is an informational message.\n",
            "WARNING:root:This is a warning message.\n",
            "ERROR:root:This is an error message.\n",
            "CRITICAL:root:This is a critical message.\n",
            "INFO:root:Log message 0\n",
            "INFO:root:Log message 1\n",
            "INFO:root:Log message 2\n",
            "INFO:root:Log message 3\n",
            "INFO:root:Log message 4\n",
            "INFO:root:Log message 5\n",
            "INFO:root:Log message 6\n",
            "INFO:root:Log message 7\n",
            "INFO:root:Log message 8\n",
            "INFO:root:Log message 9\n",
            "INFO:root:Log message 10\n",
            "INFO:root:Log message 11\n",
            "INFO:root:Log message 12\n",
            "INFO:root:Log message 13\n",
            "INFO:root:Log message 14\n",
            "INFO:root:Log message 15\n",
            "INFO:root:Log message 16\n",
            "INFO:root:Log message 17\n",
            "INFO:root:Log message 18\n",
            "INFO:root:Log message 19\n",
            "INFO:root:Log message 20\n",
            "INFO:root:Log message 21\n",
            "INFO:root:Log message 22\n",
            "INFO:root:Log message 23\n",
            "INFO:root:Log message 24\n",
            "INFO:root:Log message 25\n",
            "INFO:root:Log message 26\n",
            "INFO:root:Log message 27\n",
            "INFO:root:Log message 28\n",
            "INFO:root:Log message 29\n",
            "INFO:root:Log message 30\n",
            "INFO:root:Log message 31\n",
            "INFO:root:Log message 32\n",
            "INFO:root:Log message 33\n",
            "INFO:root:Log message 34\n",
            "INFO:root:Log message 35\n",
            "INFO:root:Log message 36\n",
            "INFO:root:Log message 37\n",
            "INFO:root:Log message 38\n",
            "INFO:root:Log message 39\n",
            "INFO:root:Log message 40\n",
            "INFO:root:Log message 41\n",
            "INFO:root:Log message 42\n",
            "INFO:root:Log message 43\n",
            "INFO:root:Log message 44\n",
            "INFO:root:Log message 45\n",
            "INFO:root:Log message 46\n",
            "INFO:root:Log message 47\n",
            "INFO:root:Log message 48\n",
            "INFO:root:Log message 49\n",
            "INFO:root:Log message 50\n",
            "INFO:root:Log message 51\n",
            "INFO:root:Log message 52\n",
            "INFO:root:Log message 53\n",
            "INFO:root:Log message 54\n",
            "INFO:root:Log message 55\n",
            "INFO:root:Log message 56\n",
            "INFO:root:Log message 57\n",
            "INFO:root:Log message 58\n",
            "INFO:root:Log message 59\n",
            "INFO:root:Log message 60\n",
            "INFO:root:Log message 61\n",
            "INFO:root:Log message 62\n",
            "INFO:root:Log message 63\n",
            "INFO:root:Log message 64\n",
            "INFO:root:Log message 65\n",
            "INFO:root:Log message 66\n",
            "INFO:root:Log message 67\n",
            "INFO:root:Log message 68\n",
            "INFO:root:Log message 69\n",
            "INFO:root:Log message 70\n",
            "INFO:root:Log message 71\n",
            "INFO:root:Log message 72\n",
            "INFO:root:Log message 73\n",
            "INFO:root:Log message 74\n",
            "INFO:root:Log message 75\n",
            "INFO:root:Log message 76\n",
            "INFO:root:Log message 77\n",
            "INFO:root:Log message 78\n",
            "INFO:root:Log message 79\n",
            "INFO:root:Log message 80\n",
            "INFO:root:Log message 81\n",
            "INFO:root:Log message 82\n",
            "INFO:root:Log message 83\n",
            "INFO:root:Log message 84\n",
            "INFO:root:Log message 85\n",
            "INFO:root:Log message 86\n",
            "INFO:root:Log message 87\n",
            "INFO:root:Log message 88\n",
            "INFO:root:Log message 89\n",
            "INFO:root:Log message 90\n",
            "INFO:root:Log message 91\n",
            "INFO:root:Log message 92\n",
            "INFO:root:Log message 93\n",
            "INFO:root:Log message 94\n",
            "INFO:root:Log message 95\n",
            "INFO:root:Log message 96\n",
            "INFO:root:Log message 97\n",
            "INFO:root:Log message 98\n",
            "INFO:root:Log message 99\n",
            "INFO:root:Log message 100\n",
            "INFO:root:Log message 101\n",
            "INFO:root:Log message 102\n",
            "INFO:root:Log message 103\n",
            "INFO:root:Log message 104\n",
            "INFO:root:Log message 105\n",
            "INFO:root:Log message 106\n",
            "INFO:root:Log message 107\n",
            "INFO:root:Log message 108\n",
            "INFO:root:Log message 109\n",
            "INFO:root:Log message 110\n",
            "INFO:root:Log message 111\n",
            "INFO:root:Log message 112\n",
            "INFO:root:Log message 113\n",
            "INFO:root:Log message 114\n",
            "INFO:root:Log message 115\n",
            "INFO:root:Log message 116\n",
            "INFO:root:Log message 117\n",
            "INFO:root:Log message 118\n",
            "INFO:root:Log message 119\n",
            "INFO:root:Log message 120\n",
            "INFO:root:Log message 121\n",
            "INFO:root:Log message 122\n",
            "INFO:root:Log message 123\n",
            "INFO:root:Log message 124\n",
            "INFO:root:Log message 125\n",
            "INFO:root:Log message 126\n",
            "INFO:root:Log message 127\n",
            "INFO:root:Log message 128\n",
            "INFO:root:Log message 129\n",
            "INFO:root:Log message 130\n",
            "INFO:root:Log message 131\n",
            "INFO:root:Log message 132\n",
            "INFO:root:Log message 133\n",
            "INFO:root:Log message 134\n",
            "INFO:root:Log message 135\n",
            "INFO:root:Log message 136\n",
            "INFO:root:Log message 137\n",
            "INFO:root:Log message 138\n",
            "INFO:root:Log message 139\n",
            "INFO:root:Log message 140\n",
            "INFO:root:Log message 141\n",
            "INFO:root:Log message 142\n",
            "INFO:root:Log message 143\n",
            "INFO:root:Log message 144\n",
            "INFO:root:Log message 145\n",
            "INFO:root:Log message 146\n",
            "INFO:root:Log message 147\n",
            "INFO:root:Log message 148\n",
            "INFO:root:Log message 149\n",
            "INFO:root:Log message 150\n",
            "INFO:root:Log message 151\n",
            "INFO:root:Log message 152\n",
            "INFO:root:Log message 153\n",
            "INFO:root:Log message 154\n",
            "INFO:root:Log message 155\n",
            "INFO:root:Log message 156\n",
            "INFO:root:Log message 157\n",
            "INFO:root:Log message 158\n",
            "INFO:root:Log message 159\n",
            "INFO:root:Log message 160\n",
            "INFO:root:Log message 161\n",
            "INFO:root:Log message 162\n",
            "INFO:root:Log message 163\n",
            "INFO:root:Log message 164\n",
            "INFO:root:Log message 165\n",
            "INFO:root:Log message 166\n",
            "INFO:root:Log message 167\n",
            "INFO:root:Log message 168\n",
            "INFO:root:Log message 169\n",
            "INFO:root:Log message 170\n",
            "INFO:root:Log message 171\n",
            "INFO:root:Log message 172\n",
            "INFO:root:Log message 173\n",
            "INFO:root:Log message 174\n",
            "INFO:root:Log message 175\n",
            "INFO:root:Log message 176\n",
            "INFO:root:Log message 177\n",
            "INFO:root:Log message 178\n",
            "INFO:root:Log message 179\n",
            "INFO:root:Log message 180\n",
            "INFO:root:Log message 181\n",
            "INFO:root:Log message 182\n",
            "INFO:root:Log message 183\n",
            "INFO:root:Log message 184\n",
            "INFO:root:Log message 185\n",
            "INFO:root:Log message 186\n",
            "INFO:root:Log message 187\n",
            "INFO:root:Log message 188\n",
            "INFO:root:Log message 189\n",
            "INFO:root:Log message 190\n",
            "INFO:root:Log message 191\n",
            "INFO:root:Log message 192\n",
            "INFO:root:Log message 193\n",
            "INFO:root:Log message 194\n",
            "INFO:root:Log message 195\n",
            "INFO:root:Log message 196\n",
            "INFO:root:Log message 197\n",
            "INFO:root:Log message 198\n",
            "INFO:root:Log message 199\n",
            "INFO:root:Log message 200\n",
            "INFO:root:Log message 201\n",
            "INFO:root:Log message 202\n",
            "INFO:root:Log message 203\n",
            "INFO:root:Log message 204\n",
            "INFO:root:Log message 205\n",
            "INFO:root:Log message 206\n",
            "INFO:root:Log message 207\n",
            "INFO:root:Log message 208\n",
            "INFO:root:Log message 209\n",
            "INFO:root:Log message 210\n",
            "INFO:root:Log message 211\n",
            "INFO:root:Log message 212\n",
            "INFO:root:Log message 213\n",
            "INFO:root:Log message 214\n",
            "INFO:root:Log message 215\n",
            "INFO:root:Log message 216\n",
            "INFO:root:Log message 217\n",
            "INFO:root:Log message 218\n",
            "INFO:root:Log message 219\n",
            "INFO:root:Log message 220\n",
            "INFO:root:Log message 221\n",
            "INFO:root:Log message 222\n",
            "INFO:root:Log message 223\n",
            "INFO:root:Log message 224\n",
            "INFO:root:Log message 225\n",
            "INFO:root:Log message 226\n",
            "INFO:root:Log message 227\n",
            "INFO:root:Log message 228\n",
            "INFO:root:Log message 229\n",
            "INFO:root:Log message 230\n",
            "INFO:root:Log message 231\n",
            "INFO:root:Log message 232\n",
            "INFO:root:Log message 233\n",
            "INFO:root:Log message 234\n",
            "INFO:root:Log message 235\n",
            "INFO:root:Log message 236\n",
            "INFO:root:Log message 237\n",
            "INFO:root:Log message 238\n",
            "INFO:root:Log message 239\n",
            "INFO:root:Log message 240\n",
            "INFO:root:Log message 241\n",
            "INFO:root:Log message 242\n",
            "INFO:root:Log message 243\n",
            "INFO:root:Log message 244\n",
            "INFO:root:Log message 245\n",
            "INFO:root:Log message 246\n",
            "INFO:root:Log message 247\n",
            "INFO:root:Log message 248\n",
            "INFO:root:Log message 249\n",
            "INFO:root:Log message 250\n",
            "INFO:root:Log message 251\n",
            "INFO:root:Log message 252\n",
            "INFO:root:Log message 253\n",
            "INFO:root:Log message 254\n",
            "INFO:root:Log message 255\n",
            "INFO:root:Log message 256\n",
            "INFO:root:Log message 257\n",
            "INFO:root:Log message 258\n",
            "INFO:root:Log message 259\n",
            "INFO:root:Log message 260\n",
            "INFO:root:Log message 261\n",
            "INFO:root:Log message 262\n",
            "INFO:root:Log message 263\n",
            "INFO:root:Log message 264\n",
            "INFO:root:Log message 265\n",
            "INFO:root:Log message 266\n",
            "INFO:root:Log message 267\n",
            "INFO:root:Log message 268\n",
            "INFO:root:Log message 269\n",
            "INFO:root:Log message 270\n",
            "INFO:root:Log message 271\n",
            "INFO:root:Log message 272\n",
            "INFO:root:Log message 273\n",
            "INFO:root:Log message 274\n",
            "INFO:root:Log message 275\n",
            "INFO:root:Log message 276\n",
            "INFO:root:Log message 277\n",
            "INFO:root:Log message 278\n",
            "INFO:root:Log message 279\n",
            "INFO:root:Log message 280\n",
            "INFO:root:Log message 281\n",
            "INFO:root:Log message 282\n",
            "INFO:root:Log message 283\n",
            "INFO:root:Log message 284\n",
            "INFO:root:Log message 285\n",
            "INFO:root:Log message 286\n",
            "INFO:root:Log message 287\n",
            "INFO:root:Log message 288\n",
            "INFO:root:Log message 289\n",
            "INFO:root:Log message 290\n",
            "INFO:root:Log message 291\n",
            "INFO:root:Log message 292\n",
            "INFO:root:Log message 293\n",
            "INFO:root:Log message 294\n",
            "INFO:root:Log message 295\n",
            "INFO:root:Log message 296\n",
            "INFO:root:Log message 297\n",
            "INFO:root:Log message 298\n",
            "INFO:root:Log message 299\n",
            "INFO:root:Log message 300\n",
            "INFO:root:Log message 301\n",
            "INFO:root:Log message 302\n",
            "INFO:root:Log message 303\n",
            "INFO:root:Log message 304\n",
            "INFO:root:Log message 305\n",
            "INFO:root:Log message 306\n",
            "INFO:root:Log message 307\n",
            "INFO:root:Log message 308\n",
            "INFO:root:Log message 309\n",
            "INFO:root:Log message 310\n",
            "INFO:root:Log message 311\n",
            "INFO:root:Log message 312\n",
            "INFO:root:Log message 313\n",
            "INFO:root:Log message 314\n",
            "INFO:root:Log message 315\n",
            "INFO:root:Log message 316\n",
            "INFO:root:Log message 317\n",
            "INFO:root:Log message 318\n",
            "INFO:root:Log message 319\n",
            "INFO:root:Log message 320\n",
            "INFO:root:Log message 321\n",
            "INFO:root:Log message 322\n",
            "INFO:root:Log message 323\n",
            "INFO:root:Log message 324\n",
            "INFO:root:Log message 325\n",
            "INFO:root:Log message 326\n",
            "INFO:root:Log message 327\n",
            "INFO:root:Log message 328\n",
            "INFO:root:Log message 329\n",
            "INFO:root:Log message 330\n",
            "INFO:root:Log message 331\n",
            "INFO:root:Log message 332\n",
            "INFO:root:Log message 333\n",
            "INFO:root:Log message 334\n",
            "INFO:root:Log message 335\n",
            "INFO:root:Log message 336\n",
            "INFO:root:Log message 337\n",
            "INFO:root:Log message 338\n",
            "INFO:root:Log message 339\n",
            "INFO:root:Log message 340\n",
            "INFO:root:Log message 341\n",
            "INFO:root:Log message 342\n",
            "INFO:root:Log message 343\n",
            "INFO:root:Log message 344\n",
            "INFO:root:Log message 345\n",
            "INFO:root:Log message 346\n",
            "INFO:root:Log message 347\n",
            "INFO:root:Log message 348\n",
            "INFO:root:Log message 349\n",
            "INFO:root:Log message 350\n",
            "INFO:root:Log message 351\n",
            "INFO:root:Log message 352\n",
            "INFO:root:Log message 353\n",
            "INFO:root:Log message 354\n",
            "INFO:root:Log message 355\n",
            "INFO:root:Log message 356\n",
            "INFO:root:Log message 357\n",
            "INFO:root:Log message 358\n",
            "INFO:root:Log message 359\n",
            "INFO:root:Log message 360\n",
            "INFO:root:Log message 361\n",
            "INFO:root:Log message 362\n",
            "INFO:root:Log message 363\n",
            "INFO:root:Log message 364\n",
            "INFO:root:Log message 365\n",
            "INFO:root:Log message 366\n",
            "INFO:root:Log message 367\n",
            "INFO:root:Log message 368\n",
            "INFO:root:Log message 369\n",
            "INFO:root:Log message 370\n",
            "INFO:root:Log message 371\n",
            "INFO:root:Log message 372\n",
            "INFO:root:Log message 373\n",
            "INFO:root:Log message 374\n",
            "INFO:root:Log message 375\n",
            "INFO:root:Log message 376\n",
            "INFO:root:Log message 377\n",
            "INFO:root:Log message 378\n",
            "INFO:root:Log message 379\n",
            "INFO:root:Log message 380\n",
            "INFO:root:Log message 381\n",
            "INFO:root:Log message 382\n",
            "INFO:root:Log message 383\n",
            "INFO:root:Log message 384\n",
            "INFO:root:Log message 385\n",
            "INFO:root:Log message 386\n",
            "INFO:root:Log message 387\n",
            "INFO:root:Log message 388\n",
            "INFO:root:Log message 389\n",
            "INFO:root:Log message 390\n",
            "INFO:root:Log message 391\n",
            "INFO:root:Log message 392\n",
            "INFO:root:Log message 393\n",
            "INFO:root:Log message 394\n",
            "INFO:root:Log message 395\n",
            "INFO:root:Log message 396\n",
            "INFO:root:Log message 397\n",
            "INFO:root:Log message 398\n",
            "INFO:root:Log message 399\n",
            "INFO:root:Log message 400\n",
            "INFO:root:Log message 401\n",
            "INFO:root:Log message 402\n",
            "INFO:root:Log message 403\n",
            "INFO:root:Log message 404\n",
            "INFO:root:Log message 405\n",
            "INFO:root:Log message 406\n",
            "INFO:root:Log message 407\n",
            "INFO:root:Log message 408\n",
            "INFO:root:Log message 409\n",
            "INFO:root:Log message 410\n",
            "INFO:root:Log message 411\n",
            "INFO:root:Log message 412\n",
            "INFO:root:Log message 413\n",
            "INFO:root:Log message 414\n",
            "INFO:root:Log message 415\n",
            "INFO:root:Log message 416\n",
            "INFO:root:Log message 417\n",
            "INFO:root:Log message 418\n",
            "INFO:root:Log message 419\n",
            "INFO:root:Log message 420\n",
            "INFO:root:Log message 421\n",
            "INFO:root:Log message 422\n",
            "INFO:root:Log message 423\n",
            "INFO:root:Log message 424\n",
            "INFO:root:Log message 425\n",
            "INFO:root:Log message 426\n",
            "INFO:root:Log message 427\n",
            "INFO:root:Log message 428\n",
            "INFO:root:Log message 429\n",
            "INFO:root:Log message 430\n",
            "INFO:root:Log message 431\n",
            "INFO:root:Log message 432\n",
            "INFO:root:Log message 433\n",
            "INFO:root:Log message 434\n",
            "INFO:root:Log message 435\n",
            "INFO:root:Log message 436\n",
            "INFO:root:Log message 437\n",
            "INFO:root:Log message 438\n",
            "INFO:root:Log message 439\n",
            "INFO:root:Log message 440\n",
            "INFO:root:Log message 441\n",
            "INFO:root:Log message 442\n",
            "INFO:root:Log message 443\n",
            "INFO:root:Log message 444\n",
            "INFO:root:Log message 445\n",
            "INFO:root:Log message 446\n",
            "INFO:root:Log message 447\n",
            "INFO:root:Log message 448\n",
            "INFO:root:Log message 449\n",
            "INFO:root:Log message 450\n",
            "INFO:root:Log message 451\n",
            "INFO:root:Log message 452\n",
            "INFO:root:Log message 453\n",
            "INFO:root:Log message 454\n",
            "INFO:root:Log message 455\n",
            "INFO:root:Log message 456\n",
            "INFO:root:Log message 457\n",
            "INFO:root:Log message 458\n",
            "INFO:root:Log message 459\n",
            "INFO:root:Log message 460\n",
            "INFO:root:Log message 461\n",
            "INFO:root:Log message 462\n",
            "INFO:root:Log message 463\n",
            "INFO:root:Log message 464\n",
            "INFO:root:Log message 465\n",
            "INFO:root:Log message 466\n",
            "INFO:root:Log message 467\n",
            "INFO:root:Log message 468\n",
            "INFO:root:Log message 469\n",
            "INFO:root:Log message 470\n",
            "INFO:root:Log message 471\n",
            "INFO:root:Log message 472\n",
            "INFO:root:Log message 473\n",
            "INFO:root:Log message 474\n",
            "INFO:root:Log message 475\n",
            "INFO:root:Log message 476\n",
            "INFO:root:Log message 477\n",
            "INFO:root:Log message 478\n",
            "INFO:root:Log message 479\n",
            "INFO:root:Log message 480\n",
            "INFO:root:Log message 481\n",
            "INFO:root:Log message 482\n",
            "INFO:root:Log message 483\n",
            "INFO:root:Log message 484\n",
            "INFO:root:Log message 485\n",
            "INFO:root:Log message 486\n",
            "INFO:root:Log message 487\n",
            "INFO:root:Log message 488\n",
            "INFO:root:Log message 489\n",
            "INFO:root:Log message 490\n",
            "INFO:root:Log message 491\n",
            "INFO:root:Log message 492\n",
            "INFO:root:Log message 493\n",
            "INFO:root:Log message 494\n",
            "INFO:root:Log message 495\n",
            "INFO:root:Log message 496\n",
            "INFO:root:Log message 497\n",
            "INFO:root:Log message 498\n",
            "INFO:root:Log message 499\n",
            "INFO:root:Log message 500\n",
            "INFO:root:Log message 501\n",
            "INFO:root:Log message 502\n",
            "INFO:root:Log message 503\n",
            "INFO:root:Log message 504\n",
            "INFO:root:Log message 505\n",
            "INFO:root:Log message 506\n",
            "INFO:root:Log message 507\n",
            "INFO:root:Log message 508\n",
            "INFO:root:Log message 509\n",
            "INFO:root:Log message 510\n",
            "INFO:root:Log message 511\n",
            "INFO:root:Log message 512\n",
            "INFO:root:Log message 513\n",
            "INFO:root:Log message 514\n",
            "INFO:root:Log message 515\n",
            "INFO:root:Log message 516\n",
            "INFO:root:Log message 517\n",
            "INFO:root:Log message 518\n",
            "INFO:root:Log message 519\n",
            "INFO:root:Log message 520\n",
            "INFO:root:Log message 521\n",
            "INFO:root:Log message 522\n",
            "INFO:root:Log message 523\n",
            "INFO:root:Log message 524\n",
            "INFO:root:Log message 525\n",
            "INFO:root:Log message 526\n",
            "INFO:root:Log message 527\n",
            "INFO:root:Log message 528\n",
            "INFO:root:Log message 529\n",
            "INFO:root:Log message 530\n",
            "INFO:root:Log message 531\n",
            "INFO:root:Log message 532\n",
            "INFO:root:Log message 533\n",
            "INFO:root:Log message 534\n",
            "INFO:root:Log message 535\n",
            "INFO:root:Log message 536\n",
            "INFO:root:Log message 537\n",
            "INFO:root:Log message 538\n",
            "INFO:root:Log message 539\n",
            "INFO:root:Log message 540\n",
            "INFO:root:Log message 541\n",
            "INFO:root:Log message 542\n",
            "INFO:root:Log message 543\n",
            "INFO:root:Log message 544\n",
            "INFO:root:Log message 545\n",
            "INFO:root:Log message 546\n",
            "INFO:root:Log message 547\n",
            "INFO:root:Log message 548\n",
            "INFO:root:Log message 549\n",
            "INFO:root:Log message 550\n",
            "INFO:root:Log message 551\n",
            "INFO:root:Log message 552\n",
            "INFO:root:Log message 553\n",
            "INFO:root:Log message 554\n",
            "INFO:root:Log message 555\n",
            "INFO:root:Log message 556\n",
            "INFO:root:Log message 557\n",
            "INFO:root:Log message 558\n",
            "INFO:root:Log message 559\n",
            "INFO:root:Log message 560\n",
            "INFO:root:Log message 561\n",
            "INFO:root:Log message 562\n",
            "INFO:root:Log message 563\n",
            "INFO:root:Log message 564\n",
            "INFO:root:Log message 565\n",
            "INFO:root:Log message 566\n",
            "INFO:root:Log message 567\n",
            "INFO:root:Log message 568\n",
            "INFO:root:Log message 569\n",
            "INFO:root:Log message 570\n",
            "INFO:root:Log message 571\n",
            "INFO:root:Log message 572\n",
            "INFO:root:Log message 573\n",
            "INFO:root:Log message 574\n",
            "INFO:root:Log message 575\n",
            "INFO:root:Log message 576\n",
            "INFO:root:Log message 577\n",
            "INFO:root:Log message 578\n",
            "INFO:root:Log message 579\n",
            "INFO:root:Log message 580\n",
            "INFO:root:Log message 581\n",
            "INFO:root:Log message 582\n",
            "INFO:root:Log message 583\n",
            "INFO:root:Log message 584\n",
            "INFO:root:Log message 585\n",
            "INFO:root:Log message 586\n",
            "INFO:root:Log message 587\n",
            "INFO:root:Log message 588\n",
            "INFO:root:Log message 589\n",
            "INFO:root:Log message 590\n",
            "INFO:root:Log message 591\n",
            "INFO:root:Log message 592\n",
            "INFO:root:Log message 593\n",
            "INFO:root:Log message 594\n",
            "INFO:root:Log message 595\n",
            "INFO:root:Log message 596\n",
            "INFO:root:Log message 597\n",
            "INFO:root:Log message 598\n",
            "INFO:root:Log message 599\n",
            "INFO:root:Log message 600\n",
            "INFO:root:Log message 601\n",
            "INFO:root:Log message 602\n",
            "INFO:root:Log message 603\n",
            "INFO:root:Log message 604\n",
            "INFO:root:Log message 605\n",
            "INFO:root:Log message 606\n",
            "INFO:root:Log message 607\n",
            "INFO:root:Log message 608\n",
            "INFO:root:Log message 609\n",
            "INFO:root:Log message 610\n",
            "INFO:root:Log message 611\n",
            "INFO:root:Log message 612\n",
            "INFO:root:Log message 613\n",
            "INFO:root:Log message 614\n",
            "INFO:root:Log message 615\n",
            "INFO:root:Log message 616\n",
            "INFO:root:Log message 617\n",
            "INFO:root:Log message 618\n",
            "INFO:root:Log message 619\n",
            "INFO:root:Log message 620\n",
            "INFO:root:Log message 621\n",
            "INFO:root:Log message 622\n",
            "INFO:root:Log message 623\n",
            "INFO:root:Log message 624\n",
            "INFO:root:Log message 625\n",
            "INFO:root:Log message 626\n",
            "INFO:root:Log message 627\n",
            "INFO:root:Log message 628\n",
            "INFO:root:Log message 629\n",
            "INFO:root:Log message 630\n",
            "INFO:root:Log message 631\n",
            "INFO:root:Log message 632\n",
            "INFO:root:Log message 633\n",
            "INFO:root:Log message 634\n",
            "INFO:root:Log message 635\n",
            "INFO:root:Log message 636\n",
            "INFO:root:Log message 637\n",
            "INFO:root:Log message 638\n",
            "INFO:root:Log message 639\n",
            "INFO:root:Log message 640\n",
            "INFO:root:Log message 641\n",
            "INFO:root:Log message 642\n",
            "INFO:root:Log message 643\n",
            "INFO:root:Log message 644\n",
            "INFO:root:Log message 645\n",
            "INFO:root:Log message 646\n",
            "INFO:root:Log message 647\n",
            "INFO:root:Log message 648\n",
            "INFO:root:Log message 649\n",
            "INFO:root:Log message 650\n",
            "INFO:root:Log message 651\n",
            "INFO:root:Log message 652\n",
            "INFO:root:Log message 653\n",
            "INFO:root:Log message 654\n",
            "INFO:root:Log message 655\n",
            "INFO:root:Log message 656\n",
            "INFO:root:Log message 657\n",
            "INFO:root:Log message 658\n",
            "INFO:root:Log message 659\n",
            "INFO:root:Log message 660\n",
            "INFO:root:Log message 661\n",
            "INFO:root:Log message 662\n",
            "INFO:root:Log message 663\n",
            "INFO:root:Log message 664\n",
            "INFO:root:Log message 665\n",
            "INFO:root:Log message 666\n",
            "INFO:root:Log message 667\n",
            "INFO:root:Log message 668\n",
            "INFO:root:Log message 669\n",
            "INFO:root:Log message 670\n",
            "INFO:root:Log message 671\n",
            "INFO:root:Log message 672\n",
            "INFO:root:Log message 673\n",
            "INFO:root:Log message 674\n",
            "INFO:root:Log message 675\n",
            "INFO:root:Log message 676\n",
            "INFO:root:Log message 677\n",
            "INFO:root:Log message 678\n",
            "INFO:root:Log message 679\n",
            "INFO:root:Log message 680\n",
            "INFO:root:Log message 681\n",
            "INFO:root:Log message 682\n",
            "INFO:root:Log message 683\n",
            "INFO:root:Log message 684\n",
            "INFO:root:Log message 685\n",
            "INFO:root:Log message 686\n",
            "INFO:root:Log message 687\n",
            "INFO:root:Log message 688\n",
            "INFO:root:Log message 689\n",
            "INFO:root:Log message 690\n",
            "INFO:root:Log message 691\n",
            "INFO:root:Log message 692\n",
            "INFO:root:Log message 693\n",
            "INFO:root:Log message 694\n",
            "INFO:root:Log message 695\n",
            "INFO:root:Log message 696\n",
            "INFO:root:Log message 697\n",
            "INFO:root:Log message 698\n",
            "INFO:root:Log message 699\n",
            "INFO:root:Log message 700\n",
            "INFO:root:Log message 701\n",
            "INFO:root:Log message 702\n",
            "INFO:root:Log message 703\n",
            "INFO:root:Log message 704\n",
            "INFO:root:Log message 705\n",
            "INFO:root:Log message 706\n",
            "INFO:root:Log message 707\n",
            "INFO:root:Log message 708\n",
            "INFO:root:Log message 709\n",
            "INFO:root:Log message 710\n",
            "INFO:root:Log message 711\n",
            "INFO:root:Log message 712\n",
            "INFO:root:Log message 713\n",
            "INFO:root:Log message 714\n",
            "INFO:root:Log message 715\n",
            "INFO:root:Log message 716\n",
            "INFO:root:Log message 717\n",
            "INFO:root:Log message 718\n",
            "INFO:root:Log message 719\n",
            "INFO:root:Log message 720\n",
            "INFO:root:Log message 721\n",
            "INFO:root:Log message 722\n",
            "INFO:root:Log message 723\n",
            "INFO:root:Log message 724\n",
            "INFO:root:Log message 725\n",
            "INFO:root:Log message 726\n",
            "INFO:root:Log message 727\n",
            "INFO:root:Log message 728\n",
            "INFO:root:Log message 729\n",
            "INFO:root:Log message 730\n",
            "INFO:root:Log message 731\n",
            "INFO:root:Log message 732\n",
            "INFO:root:Log message 733\n",
            "INFO:root:Log message 734\n",
            "INFO:root:Log message 735\n",
            "INFO:root:Log message 736\n",
            "INFO:root:Log message 737\n",
            "INFO:root:Log message 738\n",
            "INFO:root:Log message 739\n",
            "INFO:root:Log message 740\n",
            "INFO:root:Log message 741\n",
            "INFO:root:Log message 742\n",
            "INFO:root:Log message 743\n",
            "INFO:root:Log message 744\n",
            "INFO:root:Log message 745\n",
            "INFO:root:Log message 746\n",
            "INFO:root:Log message 747\n",
            "INFO:root:Log message 748\n",
            "INFO:root:Log message 749\n",
            "INFO:root:Log message 750\n",
            "INFO:root:Log message 751\n",
            "INFO:root:Log message 752\n",
            "INFO:root:Log message 753\n",
            "INFO:root:Log message 754\n",
            "INFO:root:Log message 755\n",
            "INFO:root:Log message 756\n",
            "INFO:root:Log message 757\n",
            "INFO:root:Log message 758\n",
            "INFO:root:Log message 759\n",
            "INFO:root:Log message 760\n",
            "INFO:root:Log message 761\n",
            "INFO:root:Log message 762\n",
            "INFO:root:Log message 763\n",
            "INFO:root:Log message 764\n",
            "INFO:root:Log message 765\n",
            "INFO:root:Log message 766\n",
            "INFO:root:Log message 767\n",
            "INFO:root:Log message 768\n",
            "INFO:root:Log message 769\n",
            "INFO:root:Log message 770\n",
            "INFO:root:Log message 771\n",
            "INFO:root:Log message 772\n",
            "INFO:root:Log message 773\n",
            "INFO:root:Log message 774\n",
            "INFO:root:Log message 775\n",
            "INFO:root:Log message 776\n",
            "INFO:root:Log message 777\n",
            "INFO:root:Log message 778\n",
            "INFO:root:Log message 779\n",
            "INFO:root:Log message 780\n",
            "INFO:root:Log message 781\n",
            "INFO:root:Log message 782\n",
            "INFO:root:Log message 783\n",
            "INFO:root:Log message 784\n",
            "INFO:root:Log message 785\n",
            "INFO:root:Log message 786\n",
            "INFO:root:Log message 787\n",
            "INFO:root:Log message 788\n",
            "INFO:root:Log message 789\n",
            "INFO:root:Log message 790\n",
            "INFO:root:Log message 791\n",
            "INFO:root:Log message 792\n",
            "INFO:root:Log message 793\n",
            "INFO:root:Log message 794\n",
            "INFO:root:Log message 795\n",
            "INFO:root:Log message 796\n",
            "INFO:root:Log message 797\n",
            "INFO:root:Log message 798\n",
            "INFO:root:Log message 799\n",
            "INFO:root:Log message 800\n",
            "INFO:root:Log message 801\n",
            "INFO:root:Log message 802\n",
            "INFO:root:Log message 803\n",
            "INFO:root:Log message 804\n",
            "INFO:root:Log message 805\n",
            "INFO:root:Log message 806\n",
            "INFO:root:Log message 807\n",
            "INFO:root:Log message 808\n",
            "INFO:root:Log message 809\n",
            "INFO:root:Log message 810\n",
            "INFO:root:Log message 811\n",
            "INFO:root:Log message 812\n",
            "INFO:root:Log message 813\n",
            "INFO:root:Log message 814\n",
            "INFO:root:Log message 815\n",
            "INFO:root:Log message 816\n",
            "INFO:root:Log message 817\n",
            "INFO:root:Log message 818\n",
            "INFO:root:Log message 819\n",
            "INFO:root:Log message 820\n",
            "INFO:root:Log message 821\n",
            "INFO:root:Log message 822\n",
            "INFO:root:Log message 823\n",
            "INFO:root:Log message 824\n",
            "INFO:root:Log message 825\n",
            "INFO:root:Log message 826\n",
            "INFO:root:Log message 827\n",
            "INFO:root:Log message 828\n",
            "INFO:root:Log message 829\n",
            "INFO:root:Log message 830\n",
            "INFO:root:Log message 831\n",
            "INFO:root:Log message 832\n",
            "INFO:root:Log message 833\n",
            "INFO:root:Log message 834\n",
            "INFO:root:Log message 835\n",
            "INFO:root:Log message 836\n",
            "INFO:root:Log message 837\n",
            "INFO:root:Log message 838\n",
            "INFO:root:Log message 839\n",
            "INFO:root:Log message 840\n",
            "INFO:root:Log message 841\n",
            "INFO:root:Log message 842\n",
            "INFO:root:Log message 843\n",
            "INFO:root:Log message 844\n",
            "INFO:root:Log message 845\n",
            "INFO:root:Log message 846\n",
            "INFO:root:Log message 847\n",
            "INFO:root:Log message 848\n",
            "INFO:root:Log message 849\n",
            "INFO:root:Log message 850\n",
            "INFO:root:Log message 851\n",
            "INFO:root:Log message 852\n",
            "INFO:root:Log message 853\n",
            "INFO:root:Log message 854\n",
            "INFO:root:Log message 855\n",
            "INFO:root:Log message 856\n",
            "INFO:root:Log message 857\n",
            "INFO:root:Log message 858\n",
            "INFO:root:Log message 859\n",
            "INFO:root:Log message 860\n",
            "INFO:root:Log message 861\n",
            "INFO:root:Log message 862\n",
            "INFO:root:Log message 863\n",
            "INFO:root:Log message 864\n",
            "INFO:root:Log message 865\n",
            "INFO:root:Log message 866\n",
            "INFO:root:Log message 867\n",
            "INFO:root:Log message 868\n",
            "INFO:root:Log message 869\n",
            "INFO:root:Log message 870\n",
            "INFO:root:Log message 871\n",
            "INFO:root:Log message 872\n",
            "INFO:root:Log message 873\n",
            "INFO:root:Log message 874\n",
            "INFO:root:Log message 875\n",
            "INFO:root:Log message 876\n",
            "INFO:root:Log message 877\n",
            "INFO:root:Log message 878\n",
            "INFO:root:Log message 879\n",
            "INFO:root:Log message 880\n",
            "INFO:root:Log message 881\n",
            "INFO:root:Log message 882\n",
            "INFO:root:Log message 883\n",
            "INFO:root:Log message 884\n",
            "INFO:root:Log message 885\n",
            "INFO:root:Log message 886\n",
            "INFO:root:Log message 887\n",
            "INFO:root:Log message 888\n",
            "INFO:root:Log message 889\n",
            "INFO:root:Log message 890\n",
            "INFO:root:Log message 891\n",
            "INFO:root:Log message 892\n",
            "INFO:root:Log message 893\n",
            "INFO:root:Log message 894\n",
            "INFO:root:Log message 895\n",
            "INFO:root:Log message 896\n",
            "INFO:root:Log message 897\n",
            "INFO:root:Log message 898\n",
            "INFO:root:Log message 899\n",
            "INFO:root:Log message 900\n",
            "INFO:root:Log message 901\n",
            "INFO:root:Log message 902\n",
            "INFO:root:Log message 903\n",
            "INFO:root:Log message 904\n",
            "INFO:root:Log message 905\n",
            "INFO:root:Log message 906\n",
            "INFO:root:Log message 907\n",
            "INFO:root:Log message 908\n",
            "INFO:root:Log message 909\n",
            "INFO:root:Log message 910\n",
            "INFO:root:Log message 911\n",
            "INFO:root:Log message 912\n",
            "INFO:root:Log message 913\n",
            "INFO:root:Log message 914\n",
            "INFO:root:Log message 915\n",
            "INFO:root:Log message 916\n",
            "INFO:root:Log message 917\n",
            "INFO:root:Log message 918\n",
            "INFO:root:Log message 919\n",
            "INFO:root:Log message 920\n",
            "INFO:root:Log message 921\n",
            "INFO:root:Log message 922\n",
            "INFO:root:Log message 923\n",
            "INFO:root:Log message 924\n",
            "INFO:root:Log message 925\n",
            "INFO:root:Log message 926\n",
            "INFO:root:Log message 927\n",
            "INFO:root:Log message 928\n",
            "INFO:root:Log message 929\n",
            "INFO:root:Log message 930\n",
            "INFO:root:Log message 931\n",
            "INFO:root:Log message 932\n",
            "INFO:root:Log message 933\n",
            "INFO:root:Log message 934\n",
            "INFO:root:Log message 935\n",
            "INFO:root:Log message 936\n",
            "INFO:root:Log message 937\n",
            "INFO:root:Log message 938\n",
            "INFO:root:Log message 939\n",
            "INFO:root:Log message 940\n",
            "INFO:root:Log message 941\n",
            "INFO:root:Log message 942\n",
            "INFO:root:Log message 943\n",
            "INFO:root:Log message 944\n",
            "INFO:root:Log message 945\n",
            "INFO:root:Log message 946\n",
            "INFO:root:Log message 947\n",
            "INFO:root:Log message 948\n",
            "INFO:root:Log message 949\n",
            "INFO:root:Log message 950\n",
            "INFO:root:Log message 951\n",
            "INFO:root:Log message 952\n",
            "INFO:root:Log message 953\n",
            "INFO:root:Log message 954\n",
            "INFO:root:Log message 955\n",
            "INFO:root:Log message 956\n",
            "INFO:root:Log message 957\n",
            "INFO:root:Log message 958\n",
            "INFO:root:Log message 959\n",
            "INFO:root:Log message 960\n",
            "INFO:root:Log message 961\n",
            "INFO:root:Log message 962\n",
            "INFO:root:Log message 963\n",
            "INFO:root:Log message 964\n",
            "INFO:root:Log message 965\n",
            "INFO:root:Log message 966\n",
            "INFO:root:Log message 967\n",
            "INFO:root:Log message 968\n",
            "INFO:root:Log message 969\n",
            "INFO:root:Log message 970\n",
            "INFO:root:Log message 971\n",
            "INFO:root:Log message 972\n",
            "INFO:root:Log message 973\n",
            "INFO:root:Log message 974\n",
            "INFO:root:Log message 975\n",
            "INFO:root:Log message 976\n",
            "INFO:root:Log message 977\n",
            "INFO:root:Log message 978\n",
            "INFO:root:Log message 979\n",
            "INFO:root:Log message 980\n",
            "INFO:root:Log message 981\n",
            "INFO:root:Log message 982\n",
            "INFO:root:Log message 983\n",
            "INFO:root:Log message 984\n",
            "INFO:root:Log message 985\n",
            "INFO:root:Log message 986\n",
            "INFO:root:Log message 987\n",
            "INFO:root:Log message 988\n",
            "INFO:root:Log message 989\n",
            "INFO:root:Log message 990\n",
            "INFO:root:Log message 991\n",
            "INFO:root:Log message 992\n",
            "INFO:root:Log message 993\n",
            "INFO:root:Log message 994\n",
            "INFO:root:Log message 995\n",
            "INFO:root:Log message 996\n",
            "INFO:root:Log message 997\n",
            "INFO:root:Log message 998\n",
            "INFO:root:Log message 999\n"
          ]
        }
      ]
    },
    {
      "cell_type": "code",
      "source": [
        "# 19. Write a program that handles both IndexError and KeyError using a try-except block\n",
        "\n",
        "def handle_errors():\n",
        "\n",
        "    my_list = [1, 2, 3]\n",
        "    my_dict = {\"name\": \"Alice\", \"age\": 25}\n",
        "    try:\n",
        "        print(my_list[5])\n",
        "    except IndexError:\n",
        "        print(\"Error: Index out of range in the list.\")\n",
        "    try:\n",
        "        print(my_dict[\"address\"])\n",
        "    except KeyError:\n",
        "        print(\"Error: Key not found in the dictionary.\")\n",
        "handle_errors()\n"
      ],
      "metadata": {
        "id": "KnRCUioDEl8g",
        "colab": {
          "base_uri": "https://localhost:8080/"
        },
        "outputId": "baeeee15-3dfc-4d8a-8ea0-ed8bc11c39a7"
      },
      "execution_count": 22,
      "outputs": [
        {
          "output_type": "stream",
          "name": "stdout",
          "text": [
            "Error: Index out of range in the list.\n",
            "Error: Key not found in the dictionary.\n"
          ]
        }
      ]
    },
    {
      "cell_type": "code",
      "source": [
        "# 20. How would you open a file and read its contents using a context manager in Python\n",
        "\n",
        "file_path = \"example.txt\"\n",
        "\n",
        "with open(file_path, 'r') as file:\n",
        "\n",
        "    content = file.read()\n",
        "\n",
        "print(content)\n"
      ],
      "metadata": {
        "id": "1Jnd5l2nElzf",
        "colab": {
          "base_uri": "https://localhost:8080/"
        },
        "outputId": "d2be7f26-b27d-438d-d9a8-4801e01352b9"
      },
      "execution_count": 23,
      "outputs": [
        {
          "output_type": "stream",
          "name": "stdout",
          "text": [
            "This is new appended content.\n",
            "\n"
          ]
        }
      ]
    },
    {
      "cell_type": "code",
      "source": [
        "# 21. Write a Python program that reads a file and prints the number of occurrences of a specific word\n",
        "\n",
        "import logging\n",
        "import os\n",
        "\n",
        "logging.basicConfig(\n",
        "    filename='error.log',\n",
        "    level=logging.ERROR,\n",
        "    format='%(asctime)s - %(levelname)s - %(message)s'\n",
        ")\n",
        "\n",
        "def safe_divide(a, b):\n",
        "    \"\"\"Performs division and logs an error message if a division by zero occurs.\"\"\"\n",
        "    try:\n",
        "        result = a / b\n",
        "        print(f\"Result: {result}\")\n",
        "    except ZeroDivisionError:\n",
        "        error_message = f\"Division by zero error: {a} / {b}\"\n",
        "        logging.error(error_message)\n",
        "        print(\"Error: Division by zero is not allowed.\")\n",
        "    except Exception as e:\n",
        "        logging.error(\"An unexpected error occurred: %s\", str(e))\n",
        "        print(\"Error: An unexpected error occurred.\")\n",
        "\n",
        "def open_file(filename):\n",
        "    \"\"\"Attempts to open a file and handle errors, logging errors if they occur.\"\"\"\n",
        "    try:\n",
        "        if os.path.exists(filename) and os.stat(filename).st_size == 0:\n",
        "            print(f\"Error: The file '{filename}' is empty.\")\n",
        "            logging.error(\"File is empty: %s\", filename)\n",
        "            return\n",
        "\n",
        "        with open(filename, 'r') as file:\n",
        "            content = file.read()\n",
        "            print(content)\n",
        "    except FileNotFoundError:\n",
        "        logging.error(\"File not found: %s\", filename)\n",
        "        print(f\"Error: The file '{filename}' does not exist.\")\n",
        "    except PermissionError:\n",
        "        logging.error(\"Permission denied: %s\", filename)\n",
        "        print(f\"Error: Permission denied for file '{filename}'.\")\n",
        "    except Exception as e:\n",
        "        logging.error(\"An unexpected error occurred while opening the file: %s\", str(e))\n",
        "        print(\"Error: An unexpected error occurred while opening the file.\")\n",
        "\n",
        "def append_to_file(filename, data):\n",
        "    \"\"\"Appends data to an existing file and logs any errors.\"\"\"\n",
        "    try:\n",
        "        with open(filename, 'a') as file:  # Open in append mode\n",
        "            file.write(data + '\\n')  # Add a newline after each entry\n",
        "        print(f\"Successfully appended to {filename}.\")\n",
        "    except Exception as e:\n",
        "        logging.error(\"An error occurred while writing to the file: %s\", str(e))\n",
        "        print(\"Error: Unable to write to the file.\")\n",
        "\n",
        "def count_word_occurrences(filename, word):\n",
        "    \"\"\"Counts the number of occurrences of a specific word in a file.\"\"\"\n",
        "    try:\n",
        "        with open(filename, 'r') as file:\n",
        "            content = file.read()\n",
        "            count = content.lower().split().count(word.lower())\n",
        "            print(f\"The word '{word}' occurs {count} times in '{filename}'.\")\n",
        "    except FileNotFoundError:\n",
        "        logging.error(\"File not found: %s\", filename)\n",
        "        print(f\"Error: The file '{filename}' does not exist.\")\n",
        "    except Exception as e:\n",
        "        logging.error(\"An error occurred while reading the file: %s\", str(e))\n",
        "        print(\"Error: An unexpected error occurred while reading the file.\")\n",
        "\n",
        "if __name__ == \"__main__\":\n",
        "    try:\n",
        "        numerator = int(input(\"Enter numerator: \"))\n",
        "        denominator = int(input(\"Enter denominator: \"))\n",
        "        safe_divide(numerator, denominator)\n",
        "    except ValueError:\n",
        "        logging.error(\"Invalid input: Non-integer value entered.\")\n",
        "        print(\"Error: Please enter valid integers.\")\n",
        "\n",
        "    filename = input(\"Enter filename to open: \")\n",
        "    open_file(filename)\n",
        "\n",
        "    append_data = input(\"Enter text to append to the file: \")\n",
        "    append_to_file(filename, append_data)\n",
        "\n",
        "    search_word = input(\"Enter word to count occurrences in the file: \")\n",
        "    count_word_occurrences(filename, search_word)\n"
      ],
      "metadata": {
        "id": "XNyd_2fmElqH",
        "colab": {
          "base_uri": "https://localhost:8080/"
        },
        "outputId": "f5ee6988-894a-414f-a913-b500376adf22"
      },
      "execution_count": 10,
      "outputs": [
        {
          "name": "stdout",
          "output_type": "stream",
          "text": [
            "Enter numerator: 55\n",
            "Enter denominator: 0\n"
          ]
        },
        {
          "output_type": "stream",
          "name": "stderr",
          "text": [
            "ERROR:root:Division by zero error: 55 / 0\n"
          ]
        },
        {
          "name": "stdout",
          "output_type": "stream",
          "text": [
            "Error: Division by zero is not allowed.\n",
            "Enter filename to open: fule.txt\n"
          ]
        },
        {
          "output_type": "stream",
          "name": "stderr",
          "text": [
            "ERROR:root:File not found: fule.txt\n"
          ]
        },
        {
          "output_type": "stream",
          "name": "stdout",
          "text": [
            "Error: The file 'fule.txt' does not exist.\n",
            "Enter text to append to the file: hello\n",
            "Successfully appended to fule.txt.\n",
            "Enter word to count occurrences in the file: hello hii\n",
            "The word 'hello hii' occurs 0 times in 'fule.txt'.\n"
          ]
        }
      ]
    },
    {
      "cell_type": "code",
      "source": [
        "# 22. How can you check if a file is empty before attempting to read its contents\n",
        "\n",
        "import logging\n",
        "import os\n",
        "\n",
        "logging.basicConfig(\n",
        "    filename='error.log',\n",
        "    level=logging.ERROR,\n",
        "    format='%(asctime)s - %(levelname)s - %(message)s'\n",
        ")\n",
        "\n",
        "def safe_divide(a, b):\n",
        "    \"\"\"Performs division and logs an error message if a division by zero occurs.\"\"\"\n",
        "    try:\n",
        "        result = a / b\n",
        "        print(f\"Result: {result}\")\n",
        "    except ZeroDivisionError:\n",
        "        error_message = f\"Division by zero error: {a} / {b}\"\n",
        "        logging.error(error_message)\n",
        "        print(\"Error: Division by zero is not allowed.\")\n",
        "    except Exception as e:\n",
        "        logging.error(\"An unexpected error occurred: %s\", str(e))\n",
        "        print(\"Error: An unexpected error occurred.\")\n",
        "\n",
        "def open_file(filename):\n",
        "    \"\"\"Attempts to open a file and handle errors, logging errors if they occur.\"\"\"\n",
        "    try:\n",
        "        if os.path.exists(filename) and os.stat(filename).st_size == 0:\n",
        "            print(f\"Error: The file '{filename}' is empty.\")\n",
        "            logging.error(\"File is empty: %s\", filename)\n",
        "            return\n",
        "\n",
        "        with open(filename, 'r') as file:\n",
        "            content = file.read()\n",
        "            print(content)\n",
        "    except FileNotFoundError:\n",
        "        logging.error(\"File not found: %s\", filename)\n",
        "        print(f\"Error: The file '{filename}' does not exist.\")\n",
        "    except PermissionError:\n",
        "        logging.error(\"Permission denied: %s\", filename)\n",
        "        print(f\"Error: Permission denied for file '{filename}'.\")\n",
        "    except Exception as e:\n",
        "        logging.error(\"An unexpected error occurred while opening the file: %s\", str(e))\n",
        "        print(\"Error: An unexpected error occurred while opening the file.\")\n",
        "\n",
        "def append_to_file(filename, data):\n",
        "    \"\"\"Appends data to an existing file and logs any errors.\"\"\"\n",
        "    try:\n",
        "        with open(filename, 'a') as file:\n",
        "            file.write(data + '\\n')\n",
        "        print(f\"Successfully appended to {filename}.\")\n",
        "    except Exception as e:\n",
        "        logging.error(\"An error occurred while writing to the file: %s\", str(e))\n",
        "        print(\"Error: Unable to write to the file.\")\n",
        "\n",
        "if __name__ == \"__main__\":\n",
        "    try:\n",
        "        numerator = int(input(\"Enter numerator: \"))\n",
        "        denominator = int(input(\"Enter denominator: \"))\n",
        "        safe_divide(numerator, denominator)\n",
        "    except ValueError:\n",
        "        logging.error(\"Invalid input: Non-integer value entered.\")\n",
        "        print(\"Error: Please enter valid integers.\")\n",
        "\n",
        "    filename = input(\"Enter filename to open: \")\n",
        "    open_file(filename)\n",
        "\n",
        "    append_data = input(\"Enter text to append to the file: \")\n",
        "    append_to_file(filename, append_data)\n"
      ],
      "metadata": {
        "id": "lEKiDqXvElgv",
        "colab": {
          "base_uri": "https://localhost:8080/"
        },
        "outputId": "f354ecec-6011-4d7c-84fc-1d50b6fd5425"
      },
      "execution_count": 9,
      "outputs": [
        {
          "name": "stdout",
          "output_type": "stream",
          "text": [
            "Enter numerator: 65\n",
            "Enter denominator: 63\n",
            "Result: 1.0317460317460319\n",
            "Enter filename to open: file.txt\n"
          ]
        },
        {
          "output_type": "stream",
          "name": "stderr",
          "text": [
            "ERROR:root:File not found: file.txt\n"
          ]
        },
        {
          "output_type": "stream",
          "name": "stdout",
          "text": [
            "Error: The file 'file.txt' does not exist.\n",
            "Enter text to append to the file: helo\n",
            "Successfully appended to file.txt.\n"
          ]
        }
      ]
    },
    {
      "cell_type": "code",
      "source": [
        "# 23. Write a Python program that writes to a log file when an error occurs during file handling\n",
        "\n",
        "import logging\n",
        "\n",
        "logging.basicConfig(\n",
        "    filename='error.log',\n",
        "    level=logging.ERROR,\n",
        "    format='%(asctime)s - %(levelname)s - %(message)s'\n",
        ")\n",
        "\n",
        "def safe_divide(a, b):\n",
        "    \"\"\"Performs division and logs an error message if a division by zero occurs.\"\"\"\n",
        "    try:\n",
        "        result = a / b\n",
        "        print(f\"Result: {result}\")\n",
        "    except ZeroDivisionError:\n",
        "        error_message = f\"Division by zero error: {a} / {b}\"\n",
        "        logging.error(error_message)\n",
        "        print(\"Error: Division by zero is not allowed.\")\n",
        "    except Exception as e:\n",
        "        logging.error(\"An unexpected error occurred: %s\", str(e))\n",
        "        print(\"Error: An unexpected error occurred.\")\n",
        "\n",
        "def open_file(filename):\n",
        "    \"\"\"Attempts to open a file and handle errors.\"\"\"\n",
        "    try:\n",
        "        with open(filename, 'r') as file:\n",
        "            content = file.read()\n",
        "            print(content)\n",
        "    except FileNotFoundError:\n",
        "        logging.error(\"File not found: %s\", filename)\n",
        "        print(f\"Error: The file '{filename}' does not exist.\")\n",
        "    except PermissionError:\n",
        "        logging.error(\"Permission denied: %s\", filename)\n",
        "        print(f\"Error: Permission denied for file '{filename}'.\")\n",
        "    except Exception as e:\n",
        "        logging.error(\"An unexpected error occurred while opening the file: %s\", str(e))\n",
        "        print(\"Error: An unexpected error occurred while opening the file.\")\n",
        "\n",
        "\n",
        "if __name__ == \"__main__\":\n",
        "    try:\n",
        "        numerator = int(input(\"Enter numerator: \"))\n",
        "        denominator = int(input(\"Enter denominator: \"))\n",
        "        safe_divide(numerator, denominator)\n",
        "    except ValueError:\n",
        "        logging.error(\"Invalid input: Non-integer value entered.\")\n",
        "        print(\"Error: Please enter valid integers.\")\n",
        "\n",
        "    filename = input(\"Enter filename to open: \")\n",
        "    open_file(filename)\n"
      ],
      "metadata": {
        "id": "mXo-qfWcElVz",
        "colab": {
          "base_uri": "https://localhost:8080/"
        },
        "outputId": "6986d04f-a6f0-4a55-ad2c-ebcbc60df6c1"
      },
      "execution_count": 8,
      "outputs": [
        {
          "name": "stdout",
          "output_type": "stream",
          "text": [
            "Enter numerator: 222\n",
            "Enter denominator: 3\n",
            "Result: 74.0\n",
            "Enter filename to open: file.txt\n"
          ]
        },
        {
          "output_type": "stream",
          "name": "stderr",
          "text": [
            "ERROR:root:File not found: file.txt\n"
          ]
        },
        {
          "output_type": "stream",
          "name": "stdout",
          "text": [
            "Error: The file 'file.txt' does not exist.\n"
          ]
        }
      ]
    },
    {
      "cell_type": "code",
      "source": [],
      "metadata": {
        "id": "TfTf29iYtMMr"
      },
      "execution_count": null,
      "outputs": []
    }
  ]
}